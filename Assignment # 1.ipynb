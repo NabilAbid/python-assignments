{
 "cells": [
  {
   "cell_type": "code",
   "execution_count": 2,
   "metadata": {},
   "outputs": [
    {
     "name": "stdout",
     "output_type": "stream",
     "text": [
      "\n",
      "Twinkle, twinkle, little star,\n",
      "      How I wonder what you are!\n",
      "            Up above the world so high,\n",
      "            Like a diamond in the sky.\n",
      "Twinkle, twinkle, little star,\n",
      "      How I wonder what you are\n",
      "\n"
     ]
    }
   ],
   "source": [
    "# Question No. 1 - [Answer]\n",
    "\n",
    "multiline = '''\n",
    "Twinkle, twinkle, little star,\n",
    "      How I wonder what you are!\n",
    "            Up above the world so high,\n",
    "            Like a diamond in the sky.\n",
    "Twinkle, twinkle, little star,\n",
    "      How I wonder what you are\n",
    "'''\n",
    "\n",
    "print(multiline)"
   ]
  },
  {
   "cell_type": "code",
   "execution_count": 3,
   "metadata": {},
   "outputs": [
    {
     "name": "stdout",
     "output_type": "stream",
     "text": [
      "3.7.4 (default, Aug  9 2019, 18:34:13) [MSC v.1915 64 bit (AMD64)]\n"
     ]
    }
   ],
   "source": [
    "# Question No. 2 - [Answer]\n",
    "\n",
    "# import sys (system) module\n",
    "import sys\n",
    "\n",
    "print(sys.version)"
   ]
  },
  {
   "cell_type": "code",
   "execution_count": 11,
   "metadata": {},
   "outputs": [
    {
     "name": "stdout",
     "output_type": "stream",
     "text": [
      "02-11-2019 07:38:10 PM\n"
     ]
    }
   ],
   "source": [
    "# Question No. 3 - [Answer]\n",
    "\n",
    "# import date & time module\n",
    "import datetime\n",
    "\n",
    "now = datetime.datetime.now()\n",
    "\n",
    "# Date Time Formatting (Day-Month-Year Hour:Minute:Second with AM/PM)\n",
    "dmYhms = now.strftime(\"%d-%m-%Y %I:%M:%S %p\")\n",
    "\n",
    "print(dmYhms)"
   ]
  },
  {
   "cell_type": "code",
   "execution_count": 24,
   "metadata": {},
   "outputs": [
    {
     "name": "stdout",
     "output_type": "stream",
     "text": [
      "Please provide circle radius: 1\n",
      "Area of circle: 3.14159\n"
     ]
    }
   ],
   "source": [
    "# Question No. 4 - [Answer]\n",
    "\n",
    "#Standard value of π (Pi)\n",
    "pi = 3.14\n",
    "\n",
    "# Get input from user and convert it to Float value\n",
    "radius = float(input(\"Please provide circle radius: \"))\n",
    "\n",
    "# Area of the Circle\n",
    "area = value_of_pi * (radius * radius)\n",
    "\n",
    "print(\"Area of circle: \" + str(area))"
   ]
  },
  {
   "cell_type": "code",
   "execution_count": 7,
   "metadata": {},
   "outputs": [
    {
     "name": "stdout",
     "output_type": "stream",
     "text": [
      "Q#1: What is your first name? TAHIR\n",
      "Q#2: What is your last name? KHAN AFRIDI\n",
      "IDIRFA NAHK RIHAT\n"
     ]
    }
   ],
   "source": [
    "# Question No. 5 - [Answer]\n",
    "\n",
    "# Get first name from user in input\n",
    "first_name = input(\"Q#1: What is your first name? \")\n",
    "# Get last name from user in input\n",
    "last_name = input(\"Q#2: What is your last name? \")\n",
    "\n",
    "# Get full name by concatinating the first and last names with Space\n",
    "full_name = first_name + \" \" + last_name\n",
    "\n",
    "# Get string length\n",
    "str_length = len(full_name)\n",
    "# Set a variable with minus -1 index to get the string alphabets from end\n",
    "x = -1;\n",
    "\n",
    "# Set the variable to store the characters from end / reverse way\n",
    "reverse = \"\"\n",
    "\n",
    "# For loop untill string length times\n",
    "for y in range(str_length):\n",
    "    # Here is the magic comes, if we pass the index with minus like -1 it will get the first character from end\n",
    "    # and 2nd character with -2 index, it will continue untill the condition met of the for loop met.\n",
    "    reverse += full_name[x - y]\n",
    "\n",
    "print(reverse)"
   ]
  },
  {
   "cell_type": "code",
   "execution_count": 8,
   "metadata": {},
   "outputs": [
    {
     "name": "stdout",
     "output_type": "stream",
     "text": [
      "Provide value #1 1\n",
      "Provide value #2 2\n",
      "3\n"
     ]
    }
   ],
   "source": [
    "# Question No. 6 - [Answer]\n",
    "\n",
    "a = int(input(\"Provide value #1 \"))\n",
    "b = int(input(\"Provide value #2 \"))\n",
    "\n",
    "result = a + b\n",
    "\n",
    "print(result)"
   ]
  },
  {
   "cell_type": "code",
   "execution_count": null,
   "metadata": {},
   "outputs": [],
   "source": []
  }
 ],
 "metadata": {
  "kernelspec": {
   "display_name": "Python 3",
   "language": "python",
   "name": "python3"
  },
  "language_info": {
   "codemirror_mode": {
    "name": "ipython",
    "version": 3
   },
   "file_extension": ".py",
   "mimetype": "text/x-python",
   "name": "python",
   "nbconvert_exporter": "python",
   "pygments_lexer": "ipython3",
   "version": "3.7.4"
  }
 },
 "nbformat": 4,
 "nbformat_minor": 2
}
