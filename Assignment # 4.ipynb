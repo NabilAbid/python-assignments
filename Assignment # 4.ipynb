{
 "cells": [
  {
   "cell_type": "code",
   "execution_count": 1,
   "metadata": {},
   "outputs": [
    {
     "name": "stdout",
     "output_type": "stream",
     "text": [
      "{'first_name': 'Tahir', 'last_name': 'Afridi', 'age': 30, 'city': 'Karachi'}\n",
      "{'first_name': 'Tahir', 'last_name': 'Afridi', 'age': 30, 'city': 'Karachi', 'qualification': ''}\n",
      "{'first_name': 'Tahir', 'last_name': 'Afridi', 'age': 30, 'city': 'Karachi', 'qualification': 'BSCS'}\n",
      "{'first_name': 'Tahir', 'last_name': 'Afridi', 'age': 30, 'city': 'Karachi'}\n"
     ]
    }
   ],
   "source": [
    "# Question No. 1 - [Answer]\n",
    "\n",
    "# Initiating person's dictionary with some items in it.\n",
    "person = {\n",
    "    'first_name': 'Tahir',\n",
    "    'last_name': 'Afridi',\n",
    "    'age': 30,\n",
    "    'city': 'Karachi'\n",
    "}\n",
    "\n",
    "# print all the items in the dictionary\n",
    "print(person)\n",
    "\n",
    "# adding the new key qualification to the person dict.\n",
    "person['qualification'] = ''\n",
    "\n",
    "print(person)\n",
    "\n",
    "# assigning a value to newly added key\n",
    "person['qualification'] = 'BSCS'\n",
    "\n",
    "print(person)\n",
    "\n",
    "# removing the newly added key with pop method.\n",
    "person.pop('qualification')    # there is another method to delete last item from the dictionary that is person.popItem()\n",
    "\n",
    "print(person)"
   ]
  },
  {
   "cell_type": "code",
   "execution_count": 2,
   "metadata": {},
   "outputs": [
    {
     "name": "stdout",
     "output_type": "stream",
     "text": [
      "ISLAMABAD\n",
      "    country: Pakistan\n",
      "    population: 3 Million\n",
      "    fact: Capital of Pakistan\n",
      "\n",
      "\n",
      "MADINA\n",
      "    country: KSA\n",
      "    population: 5 Million\n",
      "    fact: Roza e Rasool S.A.W\n",
      "\n",
      "\n",
      "AGRA\n",
      "    country: India\n",
      "    population: 4.5 Million\n",
      "    fact: Famous for Taj Mahal\n",
      "\n",
      "\n"
     ]
    }
   ],
   "source": [
    "# Question No. 2 - [Answer]\n",
    "\n",
    "cities = {\n",
    "    \"islamabad\": {\n",
    "        \"country\": \"Pakistan\",\n",
    "        \"population\": \"3 Million\",\n",
    "        \"fact\": \"Capital of Pakistan\"\n",
    "    },\n",
    "    \"madina\": {\n",
    "        \"country\": \"KSA\",\n",
    "        \"population\": \"5 Million\",\n",
    "        \"fact\": \"Roza e Rasool S.A.W\"\n",
    "    },\n",
    "    \"agra\": {\n",
    "        \"country\": \"India\",\n",
    "        \"population\": \"4.5 Million\",\n",
    "        \"fact\": \"Famous for Taj Mahal\"\n",
    "    }\n",
    "}\n",
    "\n",
    "for city in cities:\n",
    "    print(city.upper())\n",
    "    for x in cities[city]:\n",
    "        print(\"    \" + x + \": \" + cities[city][x])\n",
    "    \n",
    "    print(\"\\n\")\n",
    "    "
   ]
  },
  {
   "cell_type": "code",
   "execution_count": 25,
   "metadata": {},
   "outputs": [
    {
     "name": "stdout",
     "output_type": "stream",
     "text": [
      "What is your age? 2\n",
      "Movie ticket is free\n"
     ]
    }
   ],
   "source": [
    "# Question No. 3 - [Answer]\n",
    "\n",
    "charges = {\n",
    "    2: {\n",
    "        \"charges\": \"free\"\n",
    "    },\n",
    "    3: {\n",
    "        \"charges\": \"$10\"\n",
    "    },\n",
    "    12: {\n",
    "        \"charges\": \"$10\"\n",
    "    },\n",
    "    13: {\n",
    "        \"charges\": \"$15\"\n",
    "    },\n",
    "}\n",
    "\n",
    "person_age = int(input(\"What is your age? \"))\n",
    "\n",
    "for c in charges.keys():\n",
    "    if person_age < 3:\n",
    "        print(\"Movie ticket is free\")\n",
    "        break\n",
    "    elif person_age >= 3 and person_age <= 12:\n",
    "        print(\"Movie ticket price is $10\")\n",
    "        break\n",
    "    else:\n",
    "        print(\"Movie ticket price issss is $15\")\n",
    "        break\n",
    "    "
   ]
  },
  {
   "cell_type": "code",
   "execution_count": 26,
   "metadata": {},
   "outputs": [
    {
     "name": "stdout",
     "output_type": "stream",
     "text": [
      "One of my favorite books is Learn to Earn\n"
     ]
    }
   ],
   "source": [
    "# Question No. 4 - [Answer]\n",
    "\n",
    "def favorite_book(title):\n",
    "    print(\"One of my favorite books is \" + title)\n",
    "    \n",
    "favorite_book(\"Learn to Earn\")"
   ]
  },
  {
   "cell_type": "code",
   "execution_count": 35,
   "metadata": {},
   "outputs": [
    {
     "name": "stdout",
     "output_type": "stream",
     "text": [
      "Try #1: Guess a number: 3\n",
      "Input number is less than random number.\n",
      "Try #2: Guess a number: 20\n",
      "Input number is greater than random number.\n",
      "Try #3: Guess a number: 15\n",
      "Input number is greater than random number.\n"
     ]
    }
   ],
   "source": [
    "# Question No. 5 - [Answer]\n",
    "\n",
    "import random\n",
    "\n",
    "computer_generated_number = random.randint(1, 30)\n",
    "\n",
    "tries = 1\n",
    "\n",
    "while tries <= 3:\n",
    "    number = int(input(\"Try #\" + str(tries) + \": Guess a number: \"))\n",
    "    if number == computer_generated_number:\n",
    "        print(\"Congrats! You guessed the number successfully.\")\n",
    "        break\n",
    "    else:\n",
    "        if number < computer_generated_number:\n",
    "            print(\"Input number is less than random number.\")\n",
    "        else:\n",
    "            print(\"Input number is greater than random number.\")\n",
    "    tries += 1"
   ]
  },
  {
   "cell_type": "code",
   "execution_count": null,
   "metadata": {},
   "outputs": [],
   "source": []
  },
  {
   "cell_type": "code",
   "execution_count": null,
   "metadata": {},
   "outputs": [],
   "source": []
  }
 ],
 "metadata": {
  "kernelspec": {
   "display_name": "Python 3",
   "language": "python",
   "name": "python3"
  },
  "language_info": {
   "codemirror_mode": {
    "name": "ipython",
    "version": 3
   },
   "file_extension": ".py",
   "mimetype": "text/x-python",
   "name": "python",
   "nbconvert_exporter": "python",
   "pygments_lexer": "ipython3",
   "version": "3.7.4"
  }
 },
 "nbformat": 4,
 "nbformat_minor": 2
}
